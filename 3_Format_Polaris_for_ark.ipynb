{
 "cells": [
  {
   "cell_type": "markdown",
   "id": "250846da",
   "metadata": {},
   "source": [
    "## TIF Image Processing for ark-analysis\n",
    "\n",
    "This reads in component images from Akoya Inform and MASK files created by CellPose 2.0 and arranges them in a format that ark-analysis would prefer. We do this in order to call the ark.measure functions directly for normalized total-intensities, to run pixie (optional) and so we might use mantis-viewer.\n",
    "\n",
    "Note: ROI refers to an Akoya stamped region of interest, and is equivalent for our purposes to 'fov' (field of view' terminology used in the ark-analysis documentation. \n",
    "\n",
    "For each ROI sample image in the given Panel and component files dir, \n",
    "1. read in all the component_data.tif filenames\n",
    "2. open each 10 channel tif into separate subfolders per channel\n",
    "3. copy everything into a directory structure with one subfolder for each roi/fov. \n",
    "\n",
    "e.g. \n",
    "\n",
    "fov0 (foldername '091221 P9HuP28 #01 S18-20937 F4_[10347,43351]')    \n",
    ">TIFs  \n",
    " >>CD3.tif  \n",
    " >>CD4.tif  \n",
    " >>CD8.tif  \n",
    " >> ...\n",
    " \n",
    ">091221 P9HuP28 #01 S18-20937 F4_[10347,43351]__figure_0.tif    \n",
    ">091221 P9HuP28 #01 S18-20937 F4_[10347,43351]_figure_1.tif  \n",
    "   \n",
    " \n",
    " Note: this is similar to the structure for mantis-viewer outlined here: https://github.com/angelolab/ark-analysis\n",
    "\n"
   ]
  },
  {
   "cell_type": "markdown",
   "id": "cf800020",
   "metadata": {},
   "source": [
    "### Dependencies:  \n",
    "1. Cell segmentation must be done (Cellpose 2.0)\n",
    "2. component_data.tif files are spectrally unmixed multichannel images from Akoya InForm\n",
    "\n"
   ]
  },
  {
   "cell_type": "code",
   "execution_count": null,
   "id": "c026c32d",
   "metadata": {},
   "outputs": [],
   "source": [
    "import pandas as pd\n",
    "import numpy as np\n",
    "import os\n",
    "import matplotlib.pyplot as plt\n",
    "# %matplotlib inline \n",
    "\n",
    "#from skimage import io, color, filters, exposure\n",
    "#from skimage.transform import resize, rotate\n",
    "import tifffile as tif\n",
    "import shutil\n",
    "from skimage import io"
   ]
  },
  {
   "cell_type": "code",
   "execution_count": null,
   "id": "19f7c14c",
   "metadata": {},
   "outputs": [],
   "source": [
    "\n",
    "# list of labels for channels\n",
    "channels_p28 = ['CD3','pSTAT3 Y705', 'CD4', 'pSTAT5','pSTAT3 S727','pSTAT1', 'SOX10S100', 'CD8','DAPI','Autofluorescence']\n",
    "\n",
    "channels_p68 = ['pSTAT6','SOX10S100','pSTAT4', 'CD4','CD3',\n",
    "                'pSTAT1 S727', 'pSTAT2', 'CD8','DAPI','Autofluorescence']\n",
    "\n",
    "cyto_channels_p28 = [0,2,6,7]  # CD3, CD4, SOX, CD8\n",
    "cyto_channels_p68 = [1,3,4,7]  # SOX, CD4, CD3, CD8\n",
    "\n",
    "channels=channels_p68\n",
    "cyto_channels=cyto_channels_p68\n",
    "\n",
    "print(channels)"
   ]
  },
  {
   "cell_type": "code",
   "execution_count": null,
   "id": "ce6bdcdc",
   "metadata": {},
   "outputs": [],
   "source": [
    "root_dir = '/Users/annmstrange/Documents/Projects/Tumor IF'\n",
    "# sample_data_file = os.path.join(root_dir,'Analysis_Py/TumorIF_SampleData.xlsx')\n",
    "\n",
    "#components_dir = os.path.join(root_dir, 'Panel2/Export P28 3x') # 3x\n",
    "#components_dir = os.path.join(root_dir, \"Panel2/Export P28 full40x\")  \n",
    "components_dir = os.path.join(root_dir, \"Panel3/Export P68 full40x\")\n",
    "#components_dir = os.path.join(root_dir, \"Panel2/Export P28 21 full40x\") \n",
    "\n",
    "#masks_dir = os.path.join(root_dir, 'Panel2/CellPose_moreCyto/Masks')\n",
    "# Masks \n",
    "#masks_dir = os.path.join(root_dir, \"Panel2/CellPose40x_23/Masks\")\n",
    "masks_dir = os.path.join(root_dir, \"Panel3/CellPose40x_23/Masks\")\n",
    "#masks_dir = os.path.join(root_dir, \"Panel2/CellPose40x_21/Masks\")\n",
    "\n",
    "\n",
    "#target_dir = os.path.join(root_dir, 'Panel2/ark-analysis_23')\n",
    "#tifs_dir=os.path.join(root_dir, 'Panel2/ark-analysis_23')\n",
    "\n",
    "#target_dir = os.path.join(root_dir, 'Panel2/ark-analysis_21')\n",
    "#tifs_dir=os.path.join(root_dir, 'Panel2/ark-analysis_21')\n",
    "target_dir = os.path.join(root_dir, 'Panel3/ark-analysis_23')\n",
    "tifs_dir=os.path.join(root_dir, 'Panel3/ark-analysis_23')\n",
    "\n",
    "print(os.path.exists(components_dir), os.path.exists(masks_dir ), \n",
    "      os.path.exists(target_dir), os.path.exists(tifs_dir))"
   ]
  },
  {
   "cell_type": "code",
   "execution_count": null,
   "id": "2aee28b1",
   "metadata": {},
   "outputs": [],
   "source": [
    "if not os.path.exists(target_dir):\n",
    "  os.makedirs(target_dir)"
   ]
  },
  {
   "cell_type": "code",
   "execution_count": null,
   "id": "3d7cd31a",
   "metadata": {},
   "outputs": [],
   "source": [
    "# For OneDrive file locations, uncomment the best line to use here\n",
    "\n",
    "# !cd \"cd ~/OneDrive\\ -\\ The\\ University\\ of\\ Colorado\\ Denver/Documents/Projects/Tumor\\ IF/Panel2_Analysis \"\n",
    "#!cd \"Panel2/020522 P28BatchAnalysis3x\"\n",
    "\n",
    "# We'll need 3x (low res files) from 020522\\ P28BatchAnalysis3x/components, composites\n",
    "#    binary masks, maybe qpTiff_as_tifs, binary_seg_maps"
   ]
  },
  {
   "cell_type": "code",
   "execution_count": null,
   "id": "eb9d1786",
   "metadata": {},
   "outputs": [],
   "source": [
    "# # how os.path works...\n",
    "# dir_name = os.path.basename(os.path.join(root_dir,\"Panel2/020522 P28BatchAnalysis3x\"))\n",
    "# print(dir_name)\n",
    "# print(os.path.dirname(dir_name)) \n",
    "# filename_suffix=\"tif\"\n"
   ]
  },
  {
   "cell_type": "code",
   "execution_count": null,
   "id": "c32730df",
   "metadata": {},
   "outputs": [],
   "source": [
    "# code for recursively looking at files in subfolders\n",
    "# builds lists of files we want to process\n",
    "# simplest:\n",
    "import os\n",
    "import fnmatch\n",
    "import re\n",
    "\n",
    "def get_files_in_folder (src, pattern):\n",
    "    '''\n",
    "    Args: src is the full path to look in recursively\n",
    "    pattern: string like '*_composite_image.tif' to use with fnmatch.filter\n",
    "    Returns: list of full filenames\n",
    "    '''\n",
    "    # build list of filenames we want\n",
    "    fname_list = []\n",
    "\n",
    "    for dirpath, dir, files in os.walk(src):\n",
    "        for filename in fnmatch.filter(files, pattern):\n",
    "            fname = filename\n",
    "            fullname = os.path.join(dirpath, filename)\n",
    "            fname_list.append(fullname)\n",
    "                 \n",
    "    return sorted(fname_list)\n",
    " \n",
    " \n",
    "fname_component = get_files_in_folder(components_dir, '*_component_data.tif') \n",
    "\n",
    "print('found {0} files matching the pattern'.format(len(fname_component)))\n",
    "print(fname_component[0])\n",
    "\n"
   ]
  },
  {
   "cell_type": "code",
   "execution_count": null,
   "id": "1b983bc0",
   "metadata": {},
   "outputs": [],
   "source": [
    "# get a component from our data\n",
    "\n",
    "component_file1 = fname_component[0]\n",
    "component_file1"
   ]
  },
  {
   "cell_type": "code",
   "execution_count": null,
   "id": "dbb98059",
   "metadata": {},
   "outputs": [],
   "source": [
    "# to get code working, first get the 1st images from each list\n",
    "\n",
    "\n",
    "img_component = io.imread(fname_component[0], plugin=\"tifffile\")"
   ]
  },
  {
   "cell_type": "code",
   "execution_count": null,
   "id": "1bbd801b",
   "metadata": {},
   "outputs": [],
   "source": [
    "# Check the shapes\n",
    "\n",
    "print('Note: we should get 10 layers here in first dim, same as ImageJ BioFormats import')\n",
    "print('img_component shape {}'.format(img_component.shape))\n"
   ]
  },
  {
   "cell_type": "code",
   "execution_count": null,
   "id": "fd796b1f",
   "metadata": {},
   "outputs": [],
   "source": [
    "# get MASK files\n",
    "\n",
    "mask_filenames_list = get_files_in_folder(os.path.join(root_dir, masks_dir), 'MASK_*rgb.tif')\n",
    "print(\"{} mask files found \".format(len(mask_filenames_list)))\n",
    "mask_filenames_list[0]"
   ]
  },
  {
   "cell_type": "markdown",
   "id": "0d0718a4",
   "metadata": {},
   "source": [
    "## Copy Mask files to ark format"
   ]
  },
  {
   "cell_type": "code",
   "execution_count": null,
   "id": "009915da",
   "metadata": {},
   "outputs": [],
   "source": [
    "\n",
    "# target file should look like:\n",
    "print(os.path.join(root_dir, target_dir))\n",
    "\n",
    "for mask_file in mask_filenames_list:\n",
    "    sample_roi = os.path.basename(mask_file).replace('MASK_','').replace('_rgb.tif','')\n",
    "    print(sample_roi)\n",
    "    \n",
    "    # does target dir exist?\n",
    "    target_dir1 = os.path.join(root_dir, target_dir, sample_roi)\n",
    "    print(target_dir1, os.path.exists(target_dir1))\n",
    "    if not os.path.exists(target_dir1):\n",
    "        os.makedirs(target_dir1)\n",
    "        \n",
    "    ark_mask_fn0 = os.path.basename(mask_file).replace('MASK_', '').replace('_rgb.tif', '_feature_0.tif')  \n",
    "    ark_mask_fn1 = os.path.basename(mask_file).replace('MASK_', '').replace('_rgb.tif', '_feature_1.tif')  \n",
    "    print('target file {}'.format(os.path.join(target_dir1, os.path.basename(mask_file))) )    \n",
    "    print(' also for ark {}'.format(ark_mask_fn0))\n",
    "    shutil.copy(mask_file, os.path.join(target_dir1, os.path.basename(mask_file)))\n",
    "    shutil.copy(mask_file, os.path.join(target_dir1, ark_mask_fn0))\n",
    "    shutil.copy(mask_file, os.path.join(target_dir1, ark_mask_fn1))\n",
    "        \n"
   ]
  },
  {
   "cell_type": "markdown",
   "id": "0fb4ccfa",
   "metadata": {},
   "source": [
    "### Split up the TIFs by roi(fov) and channel"
   ]
  },
  {
   "cell_type": "code",
   "execution_count": null,
   "id": "6475a65c",
   "metadata": {},
   "outputs": [],
   "source": [
    "component_file1"
   ]
  },
  {
   "cell_type": "code",
   "execution_count": null,
   "id": "827cf75f",
   "metadata": {},
   "outputs": [],
   "source": [
    "component_file1\n",
    "\n",
    "\n",
    "def copy_components_for_ark (component_file1, tif_dir):\n",
    "    '''\n",
    "    Args:\n",
    "        component_file1 is location of the Polaris-generated 10 channel tif\n",
    "        tif_dir is the directory where we'll copy single channel tifs\n",
    "           with folder structure by roi (aka fov in MIBI terms)\n",
    "    '''\n",
    "    img_component = io.imread(component_file1, plugin=\"tifffile\")\n",
    "    print(\"processing {}\".format(os.path.basename(component_file1)))\n",
    "\n",
    "    sample=os.path.basename(component_file1).split('_')[0]\n",
    "    # print(sample)   \n",
    "    roi_sub_folder = os.path.basename(component_file1).replace('_component_data.tif', '')\n",
    "    tif_dir=os.path.join(tif_dir,roi_sub_folder, \"TIFs\")\n",
    "    # print('dir exists? {} {}'.format(tif_dir, os.path.exists(tif_dir)))\n",
    "    if not os.path.exists(tif_dir):\n",
    "        os.makedirs(tif_dir)\n",
    "    \n",
    "    # loop each channel for \n",
    "    for i in np.arange(len(channels)):\n",
    "        #print(\"Processing {} {}\".format(i, marker_list[i]))\n",
    "        img_i = img_component[i,:,:]\n",
    "\n",
    "        img_fn = channels[i] + '.tif'\n",
    "        # print('save file {}'.format(os.path.join(tif_dir,img_fn)))\n",
    "        tif.imwrite(os.path.join(tif_dir,img_fn), img_i, photometric='minisblack')\n",
    "    \n",
    "    return True\n",
    "    \n",
    "# test for one    \n",
    "copy_components_for_ark(component_file1, tifs_dir)    "
   ]
  },
  {
   "cell_type": "code",
   "execution_count": null,
   "id": "073d633e",
   "metadata": {},
   "outputs": [],
   "source": [
    "\n",
    "for comp_file in fname_component:    \n",
    "    copy_components_for_ark(comp_file, tifs_dir)   \n",
    "    "
   ]
  },
  {
   "cell_type": "code",
   "execution_count": null,
   "id": "767da652",
   "metadata": {},
   "outputs": [],
   "source": [
    "# files processed\n",
    "\n"
   ]
  }
 ],
 "metadata": {
  "kernelspec": {
   "display_name": "Python 3 (ipykernel)",
   "language": "python",
   "name": "python3"
  },
  "language_info": {
   "codemirror_mode": {
    "name": "ipython",
    "version": 3
   },
   "file_extension": ".py",
   "mimetype": "text/x-python",
   "name": "python",
   "nbconvert_exporter": "python",
   "pygments_lexer": "ipython3",
   "version": "3.8.13"
  }
 },
 "nbformat": 4,
 "nbformat_minor": 5
}
