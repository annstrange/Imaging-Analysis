{
 "cells": [
  {
   "cell_type": "markdown",
   "metadata": {},
   "source": [
    "# Run Cellpose model\n",
    "\n",
    "This runs the a cellpose model on Vectra Polaris spectrally unmixed multichannel tif files.  Run from an env that includes cellpose \n",
    "\n",
    "Dependencies:\n",
    "1. Use the cellpose GUI to train a model from an existing one. Tip: models that train well for Polaris images are CellPose (CP) and TissueNet2 (TN2), but will do better with some human-in-the-loop additional training.  The model is expected to be saved in the current dir within a models folder.    \n",
    "2. Polaris *_component_data.tif files pre-processed to be in 3 channel RGB 8-bit format i.e. uint8 0-255 range, having at least one channel for cyto, and/or nuclei (plus option to put whatever else in channel3 for review purposes) are expected to reside in a single directory in tif format.  See prior notebook for setup scripts, Format_Polaris_for_cellpose. \n",
    "\n",
    "Useful links:   \n",
    "http://www.cellpose.org  \n",
    "https://www.youtube.com/watch?v=5qANHWoubZU  \n",
    "https://cellpose.readthedocs.io/en/latest/index.html  * for installation instructions.  \n",
    "https://github.com/MouseLand/cellpose/tree/master  \n",
    "\n",
    "### ToDo  \n",
    "* Plot summary statistics of the masks generated\n",
    "\n",
    "### Install Instructions  \n",
    "\n"
   ]
  },
  {
   "cell_type": "code",
   "execution_count": null,
   "metadata": {},
   "outputs": [],
   "source": [
    "import numpy as np\n",
    "import time, os, sys\n",
    "from urllib.parse import urlparse\n",
    "import matplotlib.pyplot as plt\n",
    "# %matplotlib inline \n",
    "plt.rcParams['figure.dpi'] = 300\n",
    "from cellpose import models, utils, io, plot\n",
    "import fnmatch, re, skimage\n"
   ]
  },
  {
   "cell_type": "code",
   "execution_count": null,
   "metadata": {},
   "outputs": [],
   "source": []
  },
  {
   "cell_type": "markdown",
   "metadata": {},
   "source": [
    "## Variables to set each time "
   ]
  },
  {
   "cell_type": "code",
   "execution_count": null,
   "metadata": {},
   "outputs": [],
   "source": [
    "\n",
    "# Location of consolidated data file\n",
    "root_dir = '/Users/annmstrange/Documents/Projects/Tumor IF'\n",
    "#rgb_input_dir = os.path.join(root_dir, 'Panel2/CellPose40x')\n",
    "\n",
    "# output for RGB files\n",
    "#rgb_input_dir = os.path.join(root_dir, 'Panel2/RGB_CellPose40x_23')\n",
    "rgb_input_dir = os.path.join(root_dir, 'Panel3/RGB_CellPose40x_23')\n",
    "#rgb_input_dir = os.path.join(root_dir, 'Panel2/RGB_CellPose40x_21')\n",
    "\n",
    "# Masks dir must not exist (remove it)\n",
    "#cellpose_masks_output_dir = os.path.join(root_dir, \"Panel2/CellPose40x_23/Masks\")\n",
    "cellpose_masks_output_dir = os.path.join(root_dir, \"Panel3/CellPose40x_23/Masks\")\n",
    "#cellpose_masks_output_dir = os.path.join(root_dir, \"Panel2/CellPose40x_21/Masks\")\n",
    "\n",
    "\n",
    "# models dir\n",
    "model_path = os.path.join(root_dir, 'Panel2/CellPose40x_P28_2023_train/models/TN_20230_P28')  # also for P68\n",
    "#model_path = os.path.join(root_dir, 'Panel2/CellPose40x_P28_2023_train/models/TN_2021_P28')\n",
    "\n",
    "#diameter = 14.0 # 3x blur\n",
    "DIAMETER = 30.0 # 40x full resolution\n",
    "# CP_20230515_144527"
   ]
  },
  {
   "cell_type": "code",
   "execution_count": null,
   "metadata": {},
   "outputs": [],
   "source": [
    "def get_files_in_folder (src, pattern):\n",
    "    '''\n",
    "    Args: src is the full path where to look eg '/Volumes/Glyph4TB/Projects/Tumor IF/Panel2/013022 P28Images_full'\n",
    "    pattern: string like '*_composite_image.tif' to use with fnmatch.filter\n",
    "    The search will include subdirectories. \n",
    "    Returns: list of full filenames\n",
    "    '''\n",
    "    # build list of filenames we want\n",
    "    fname_list = []\n",
    "\n",
    "    for dirpath, dir, files in os.walk(src):\n",
    "        for filename in fnmatch.filter(files, pattern):\n",
    "            fname = filename\n",
    "            fullname = os.path.join(dirpath, filename)\n",
    "            fname_list.append(fullname)\n",
    "            \n",
    "    return fname_list   \n",
    "\n"
   ]
  },
  {
   "cell_type": "code",
   "execution_count": null,
   "metadata": {},
   "outputs": [],
   "source": [
    "# peek at one: we should see cell masks \n",
    "files = get_files_in_folder(rgb_input_dir, '*_rgb.tif') \n",
    "\n",
    "# view 1 image\n",
    "img = io.imread(files[-1])\n",
    "plt.figure(figsize=(2,2))\n",
    "plt.imshow(img)\n",
    "plt.axis('off')\n",
    "plt.show()"
   ]
  },
  {
   "cell_type": "code",
   "execution_count": null,
   "metadata": {},
   "outputs": [],
   "source": [
    "#@markdown ###Step 4: Enter Directory path containing the images: \n",
    "#@markdown ##### Existing Masks directory will be deleted. (Does not read images in subfolders)\n",
    "\n",
    "Input_Directory = rgb_input_dir\n",
    "input_dir = os.path.join(Input_Directory, \"\") #adds separator to the end regardless if path has it or not\n",
    "\n",
    "#@markdown ###Optional: Enter image extension here to read only files/images of specified extension (.tif,.jpg..): \n",
    "#@markdown ###### Leave empty if not specifying anything\n",
    "image_format = \"tif\" #@param {type:\"string\"}\n",
    "\n",
    "##@markdown ###Tick if image is RGB: \n",
    "#RGB= False #@param {type:\"boolean\"}\n",
    "#rgb=RGB\n",
    "#save_dir = cellpose_masks_output_dir\n",
    "if not os.path.exists(cellpose_masks_output_dir):\n",
    "  os.makedirs(cellpose_masks_output_dir)\n",
    "else:\n",
    "  print(\"Existing Mask Directory found. You should delete it so this can rebuild it fully. {}\".format(cellpose_masks_output_dir))\n",
    "  #shutil.rmdir(cellpose_masks_output_dir)\n",
    "\n",
    "#@markdown ##### Save Directory will be created in the input path under Masks\n",
    "\n",
    "##@markdown ###Advanced Parameters\n",
    "#Use_Default_Advanced_Parameters = True #@param {type:\"boolean\"}\n",
    "\n",
    "\n",
    "# r=root, d=directories, f = files\n",
    "#files=[]\n",
    "\n",
    "# for r, d, f in os.walk(input_dir):\n",
    "#     for fil in f:\n",
    "#       if (image_format):\n",
    "#         if fil.endswith(image_format):\n",
    "#           files.append(os.path.join(r, fil))\n",
    "#       else:\n",
    "#         files.append(os.path.join(r, fil))\n",
    "#     break #only read the root directory; can change this to include levels\n",
    "\n",
    "\n",
    "if(len(files)==0):\n",
    "  print(\"Number of images loaded: %d.\" %(len(files)))\n",
    "  print(\"Cannot read image files. Check if folder has images\")\n",
    "else:\n",
    "  print(\"Number of images loaded: %d.\" %(len(files)))\n"
   ]
  },
  {
   "cell_type": "code",
   "execution_count": null,
   "metadata": {},
   "outputs": [],
   "source": [
    "cellpose_masks_output_dir"
   ]
  },
  {
   "cell_type": "code",
   "execution_count": null,
   "metadata": {},
   "outputs": [],
   "source": [
    "# Hyperparameters.  Recommend keeping the defaults except for cell diameter (in pixels) \n",
    "# which should be approximated (take median, ideally) across the batch.  \n",
    "# Measure, or use cellpose on a subset to estimate.  You may get better segementation by estimating this well.\n",
    "\n",
    "flow_threshold = 0.4\n",
    "cellprob_threshold = 0\n",
    "diameter=DIAMETER"
   ]
  },
  {
   "cell_type": "code",
   "execution_count": null,
   "metadata": {},
   "outputs": [],
   "source": []
  },
  {
   "cell_type": "markdown",
   "metadata": {},
   "source": [
    "## RUN CELLPOSE\n"
   ]
  },
  {
   "cell_type": "code",
   "execution_count": null,
   "metadata": {},
   "outputs": [],
   "source": [
    "\n",
    "# DEFINE CELLPOSE MODEL\n",
    "# model_type='cyto' or model_type='nuclei'\n",
    "#model = models.Cellpose(gpu=False, model_type='cyto')\n",
    "# instead of a model type (for built in models)\n",
    "model = models.CellposeModel(gpu=False,\n",
    "                            pretrained_model=model_path)"
   ]
  },
  {
   "cell_type": "code",
   "execution_count": null,
   "metadata": {},
   "outputs": [],
   "source": [
    "os.path.basename(model_path)"
   ]
  },
  {
   "cell_type": "code",
   "execution_count": null,
   "metadata": {},
   "outputs": [],
   "source": [
    "\n",
    "\n",
    "\n",
    "# define CHANNELS to run segementation on\n",
    "# grayscale=0, R=1, G=2, B=3\n",
    "# channels = [cytoplasm, nucleus]\n",
    "# if NUCLEUS channel does not exist, set the second channel to 0\n",
    "# channels = [0,0]\n",
    "# IF ALL YOUR IMAGES ARE THE SAME TYPE, you can give a list with 2 elements\n",
    "# channels = [0,0] # IF YOU HAVE GRAYSCALE\n",
    "channels = [2,3] # IF YOU HAVE G=cytoplasm and B=nucleus\n",
    "# channels = [2,1] # IF YOU HAVE G=cytoplasm and R=nucleus\n",
    "\n",
    "# or if you have different types of channels in each image\n",
    "#channels = [[2,3], [0,0], [0,0]]\n",
    "\n",
    "# if diameter is set to None, the size of the cells is estimated on a per image basis\n",
    "# you can set the average cell `diameter` in pixels yourself (recommended) \n",
    "# diameter can be a list or a single number for all images\n",
    "\n",
    "diameter = DIAMETER\n",
    "\n",
    "# you can run all in a list e.g.\n",
    "# >>> imgs = [io.imread(filename) in for filename in files]\n",
    "# >>> masks, flows, styles, diams = model.eval(imgs, diameter=None, channels=channels)\n",
    "# >>> io.masks_flows_to_seg(imgs, masks, flows, diams, files, channels)\n",
    "# >>> io.save_to_png(imgs, masks, flows, files)\n",
    "\n",
    "# Try this with one file (this doens't actually save the mask as a tif); just trying it. \n",
    "for filename in files[:1]:\n",
    "    print('Running cellpose on {}'.format(filename))\n",
    "    img = io.imread(filename)\n",
    "    masks, flows, styles = model.eval(img, \n",
    "                                      diameter=diameter, \n",
    "                                      channels=channels)\n",
    "\n",
    "    # save results so you can load in gui; this saves a file ending in _rgb_seg.npy \n",
    "    io.masks_flows_to_seg(img, masks, flows, diameter, filename, channels)\n",
    "    \n",
    "    # save results as png with a 4 image panel of each part \n",
    "    # io.save_to_png(img, masks, flows, filename)"
   ]
  },
  {
   "cell_type": "code",
   "execution_count": null,
   "metadata": {},
   "outputs": [],
   "source": []
  },
  {
   "cell_type": "code",
   "execution_count": null,
   "metadata": {},
   "outputs": [],
   "source": [
    "#@markdown ### **Step 8. Run Cellpose on folder of images**\n",
    "\n",
    "#@markdown ###Tick if you want to save the flow image/s: \n",
    "Save_Flow= False #@param {type:\"boolean\"}\n",
    "#@markdown ##### *Flow image will be resized when saved\n",
    "save_flow=Save_Flow\n",
    "\n",
    "#print(\"Running segmentation on channel %s\" %(segment_channel))\n",
    "#print(\"Using the model: \",model_choice)\n",
    "#if diameter is None:\n",
    "#  print(\"Diameter will be estimated from the image/s\")\n",
    "#else:\n",
    "#  print(f\"Cellpose will use a diameter of {diameter}\")\n",
    "\n",
    "# print(f\"Using a flow threshold of: {flow_threshold} and a cell probability threshold of: {cellprob_threshold}\")\n",
    "\n",
    "#if too many images, it will lead to memory error. \n",
    "#will evaluate on a per image basis\n",
    "#masks, flows, styles, diams = model.eval(imgs, diameter=diameter, flow_threshold=flow_threshold,cellprob_threshold=cellprob_threshold, channels=channels)\n",
    "\n",
    "\n",
    "#save images in folder with the diameter value used in cellpose\n",
    "print(\"Segmentation Done. Saving Masks\")\n",
    "print(\"Save Directory is: \",cellpose_masks_output_dir)\n",
    "if (not os.path.exists(cellpose_masks_output_dir)):\n",
    "    os.mkdir(cellpose_masks_output_dir)\n",
    "\n",
    "if save_flow:\n",
    "  print(\"Saving Flow\")\n",
    "  flows_save_dir=cellpose_masks_output_dir+\"flows\"+os.sep\n",
    "  print(\"Save Directory for flows is: \",flows_save_dir)\n",
    "  if (not os.path.exists(flows_save_dir)):\n",
    "      os.mkdir(flows_save_dir)\n",
    "\n",
    "\n",
    "for file_idx, filename in enumerate(files):\n",
    "    img = io.imread(filename)    \n",
    "    \n",
    "    #file_name=os.path.splitext(os.path.basename(files[img_idx]))[0]\n",
    "    print(\"\\nSegmenting: \",filename)\n",
    "    mask, flow, style = model.eval(img, diameter=diameter, \n",
    "                                         flow_threshold=flow_threshold,\n",
    "                                         cellprob_threshold=cellprob_threshold, \n",
    "                                         channels=channels)\n",
    "    #save images in folder with the diameter value used in cellpose\n",
    "    print(\"Segmentation complete. Saving Masks\")\n",
    "    #Output name for masks\n",
    "    mask_output_name= os.path.join(cellpose_masks_output_dir, \"MASK_\"+os.path.basename(filename))\n",
    "    #Save mask as 16-bit in case this has to be used for detecting than 255 objects\n",
    "    mask=mask.astype(np.uint16)\n",
    "    #Save flow as 8-bit\n",
    "    skimage.io.imsave(mask_output_name,mask, check_contrast=True)\n",
    "    if save_flow:\n",
    "      #Output name for flows\n",
    "      flow_output_name=flows_save_dir+\"FLOWS_\"+filename+\".tif\"\n",
    "      #Save as 8-bit\n",
    "      flow_image=flow[0].astype(np.uint8)\n",
    "      skimage.io.imsave(flow_output_name,flow_image, check_contrast=True)\n",
    "    \n",
    "    #save output of model eval to be loaded in GUI (_seg.npy)\n",
    "    io.masks_flows_to_seg(img, masks, flows, diameter, filename, channels)\n",
    "\n",
    "# Save parameters used in Cellpose\n",
    "parameters_file= os.path.join(cellpose_masks_output_dir, \"Cellpose_parameters_used.txt\") \n",
    "outFile=open(parameters_file, \"w\") \n",
    "outFile.write(\"CELLPOSE PARAMETERS\\n\") \n",
    "outFile.write(\"Model: \"+ os.path.basename(model_path) +\"\\n\") \n",
    "if diameter == 0:\n",
    "  diameter = \"Automatically estimated by cellpose\"\n",
    "#outFile.write(\"Omni Flag: \"+str(omni)+\"\\n\") \n",
    "outFile.write(\"Diameter: \"+str(diameter)+\"\\n\") \n",
    "outFile.write(\"Flow Threshold: \"+str(flow_threshold)+\"\\n\") \n",
    "outFile.write(\"Cell probability Threshold: \"+str(cellprob_threshold)+\"\\n\") \n",
    "outFile.close() \n",
    "print(\"\\nSegmentation complete and files saved\")\n"
   ]
  },
  {
   "cell_type": "code",
   "execution_count": null,
   "metadata": {},
   "outputs": [],
   "source": [
    "# Save parameters used in Cellpose\n",
    "parameters_file= os.path.join(cellpose_masks_output_dir, \"Cellpose_parameters_used.txt\") \n",
    "outFile=open(parameters_file, \"w\") \n",
    "outFile.write(\"CELLPOSE PARAMETERS\\n\") \n",
    "outFile.write(\"Model: \"+ os.path.basename(model_path) +\"\\n\") \n",
    "if diameter == 0:\n",
    "  diameter = \"Automatically estimated by cellpose\"\n",
    "#outFile.write(\"Omni Flag: \"+str(omni)+\"\\n\") \n",
    "outFile.write(\"Diameter: \"+str(diameter)+\"\\n\") \n",
    "outFile.write(\"Flow Threshold: \"+str(flow_threshold)+\"\\n\") \n",
    "outFile.write(\"Cell probability Threshold: \"+str(cellprob_threshold)+\"\\n\") \n",
    "outFile.close() \n",
    "print(\"\\nSegmentation complete and files saved\")"
   ]
  },
  {
   "cell_type": "code",
   "execution_count": null,
   "metadata": {},
   "outputs": [],
   "source": [
    "mask_output_name"
   ]
  },
  {
   "cell_type": "code",
   "execution_count": null,
   "metadata": {},
   "outputs": [],
   "source": [
    "files\n",
    "\n",
    "# #41 Unstained"
   ]
  },
  {
   "cell_type": "code",
   "execution_count": null,
   "metadata": {},
   "outputs": [],
   "source": [
    "diameter"
   ]
  },
  {
   "cell_type": "code",
   "execution_count": null,
   "metadata": {},
   "outputs": [],
   "source": [
    "# DISPLAY RESULTS\n",
    "\n",
    "#save output of model eval to be loaded in GUI\n",
    "io.masks_flows_to_seg(img, masks, flows, diameter, filename, channels)\n",
    "\n",
    "\n",
    "fig = plt.figure(figsize=(12,5))\n",
    "plot.show_segmentation(fig, img, masks, flows[0], channels=channels)\n",
    "plt.tight_layout()\n",
    "plt.show()"
   ]
  },
  {
   "cell_type": "markdown",
   "metadata": {},
   "source": [
    "## Need masks for unstained\n",
    "\n",
    "Check if any cell masks were detected for unstained, and find a suitable mask to proxy so we can have some unstained cell measurements"
   ]
  },
  {
   "cell_type": "code",
   "execution_count": null,
   "metadata": {},
   "outputs": [],
   "source": [
    "unstained_list = [match for match in files if \"UNST\" in match]  # Unstained\n",
    "unstained_list"
   ]
  },
  {
   "cell_type": "code",
   "execution_count": null,
   "metadata": {},
   "outputs": [],
   "source": [
    "# view masks\n",
    "#Output name for masks\n",
    "i=1\n",
    "mask_output_name= os.path.join(cellpose_masks_output_dir, \"MASK_\"+os.path.basename(unstained_list[i]))\n",
    "\n",
    "# view 1 image\n",
    "img = io.imread(mask_output_name)\n",
    "plt.figure(figsize=(2,2))\n",
    "plt.imshow(img)\n",
    "plt.axis('off')\n",
    "plt.show()"
   ]
  },
  {
   "cell_type": "code",
   "execution_count": null,
   "metadata": {},
   "outputs": [],
   "source": []
  },
  {
   "cell_type": "code",
   "execution_count": null,
   "metadata": {},
   "outputs": [],
   "source": []
  },
  {
   "cell_type": "code",
   "execution_count": null,
   "metadata": {},
   "outputs": [],
   "source": []
  },
  {
   "cell_type": "code",
   "execution_count": null,
   "metadata": {},
   "outputs": [],
   "source": [
    "# inspect the masks\n",
    "\n",
    "os.path.exists(os.path.join(input_dir,'091221 P9HuP28 #02 S16-14778 A1_[5931,51923]_rgb_seg.npy'))\n",
    "\n",
    "# _seg.npy format is what CellPose GUI uses\n",
    "#img_array = np.load(os.path.join(input_dir,'091221 P9HuP28 #02 S16-14778 A1_[5931,51923]_rgb_seg.npy'),\n",
    "#               allow_pickle=True)\n",
    "\n",
    "#type(img_array)\n",
    "\n",
    "#plt.imshow(img_array, cmap='gray')\n",
    "#plt.show()\n"
   ]
  },
  {
   "cell_type": "code",
   "execution_count": null,
   "metadata": {},
   "outputs": [],
   "source": [
    "print(os.path.exists(mask_output_name))\n",
    "\n"
   ]
  },
  {
   "cell_type": "code",
   "execution_count": null,
   "metadata": {},
   "outputs": [],
   "source": [
    "\n",
    "\n",
    "# view 1 image\n",
    "img = io.imread(mask_output_name)\n",
    "plt.figure(figsize=(2,2))\n",
    "plt.imshow(img)\n",
    "plt.axis('off')\n",
    "plt.show()"
   ]
  },
  {
   "cell_type": "markdown",
   "metadata": {},
   "source": [
    "# Handle Unstained Samples  \n",
    "\n",
    "Please find an existing mask file, duplicate it and rename it to precisely match the sample name of at least one unstained sample file.  We want event measurements from unstained samples even though no cells will likely be detected. "
   ]
  },
  {
   "cell_type": "markdown",
   "metadata": {},
   "source": [
    "## Export metrics"
   ]
  },
  {
   "cell_type": "code",
   "execution_count": null,
   "metadata": {},
   "outputs": [],
   "source": []
  },
  {
   "cell_type": "code",
   "execution_count": null,
   "metadata": {},
   "outputs": [],
   "source": []
  },
  {
   "cell_type": "code",
   "execution_count": null,
   "metadata": {},
   "outputs": [],
   "source": []
  },
  {
   "cell_type": "code",
   "execution_count": null,
   "metadata": {},
   "outputs": [],
   "source": [
    "# check files match up\n",
    "matched_list = []\n",
    "for file_idx, filename in enumerate(files):\n",
    "\n",
    "    #Output name for masks\n",
    "    mask_output_name= os.path.join(cellpose_masks_output_dir, \"MASK_\"+os.path.basename(filename))\n",
    "\n",
    "    if (os.path.exists(mask_output_name)):\n",
    "        matched_list.append(mask_output_name)\n",
    "        \n",
    "        \n",
    "print(len(matched_list))\n",
    "\n",
    "# remove files not in list\n",
    "all_files = get_files_in_folder(cellpose_masks_output_dir, 'MASK*.tif') \n",
    "print(len(all_files))\n",
    "\n",
    "rmv_files = list(set(all_files) - set(matched_list))\n",
    "\n",
    "# for rmv_fn in rmv_files:\n",
    "#     print(rmv_fn)\n",
    "#     os.remove(rmv_fn)"
   ]
  },
  {
   "cell_type": "code",
   "execution_count": null,
   "metadata": {},
   "outputs": [],
   "source": [
    "cellpose_masks_output_dir"
   ]
  },
  {
   "cell_type": "code",
   "execution_count": null,
   "metadata": {},
   "outputs": [],
   "source": []
  }
 ],
 "metadata": {
  "kernelspec": {
   "display_name": "Python [conda env:cellpose2]",
   "language": "python",
   "name": "conda-env-cellpose2-py"
  },
  "language_info": {
   "codemirror_mode": {
    "name": "ipython",
    "version": 3
   },
   "file_extension": ".py",
   "mimetype": "text/x-python",
   "name": "python",
   "nbconvert_exporter": "python",
   "pygments_lexer": "ipython3",
   "version": "3.11.3"
  },
  "varInspector": {
   "cols": {
    "lenName": 16,
    "lenType": 16,
    "lenVar": 40
   },
   "kernels_config": {
    "python": {
     "delete_cmd_postfix": "",
     "delete_cmd_prefix": "del ",
     "library": "var_list.py",
     "varRefreshCmd": "print(var_dic_list())"
    },
    "r": {
     "delete_cmd_postfix": ") ",
     "delete_cmd_prefix": "rm(",
     "library": "var_list.r",
     "varRefreshCmd": "cat(var_dic_list()) "
    }
   },
   "types_to_exclude": [
    "module",
    "function",
    "builtin_function_or_method",
    "instance",
    "_Feature"
   ],
   "window_display": false
  }
 },
 "nbformat": 4,
 "nbformat_minor": 4
}
