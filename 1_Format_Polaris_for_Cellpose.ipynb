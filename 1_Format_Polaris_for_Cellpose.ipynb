{
 "cells": [
  {
   "cell_type": "markdown",
   "id": "250846da",
   "metadata": {},
   "source": [
    "## TIF Image Processing for CellPose\n",
    "\n",
    "This reads in component images to create RGB images suitable for CellPose 2.0.  CellPose requires one color (G)\n",
    "to represent cytoplasm and another (B) for nuclei. \n",
    "\n",
    "For each ROI sample image in the given Panel and component files dir, \n",
    "1. read in all the component_data.tif filenames\n",
    "2. open each 10 channel tif into a numpy array with shape like (10, H, W)\n",
    "3. re-scaling? Normalize across the batch, scale, and covert to 0-255 8 bit format. \n",
    "4. merge cytoplasm channels to one for green, take DAPI for blue, save as (H, W, 3) shaped numpy\n",
    "5. save RGB tif files to RGB subdir.\n",
    "\n",
    "\n"
   ]
  },
  {
   "cell_type": "markdown",
   "id": "cf800020",
   "metadata": {},
   "source": [
    "### Todo yet\n",
    "1. Get images and plots into single figures so they go on one PDF page\n",
    "2. Only show the aggregated histograms per patient sample\n",
    "3. Move many supporting functions to a .py import file to clean up \n",
    "4. Standardize folder names"
   ]
  },
  {
   "cell_type": "code",
   "execution_count": null,
   "id": "c026c32d",
   "metadata": {},
   "outputs": [],
   "source": [
    "import pandas as pd\n",
    "import numpy as np\n",
    "import os\n",
    "import matplotlib.pyplot as plt\n",
    "# %matplotlib inline \n",
    "\n",
    "from skimage import io, color, filters, exposure\n",
    "from skimage.transform import resize, rotate\n",
    "import tifffile as tif\n",
    "#import cv2"
   ]
  },
  {
   "cell_type": "markdown",
   "id": "59c87a5d",
   "metadata": {},
   "source": [
    "## Variables to set\n",
    "\n",
    "These will vary by run so make sure these are correct:\n",
    "* channels:  list of channel labels, in order of emissions range. \n",
    "* cyto_channels:  list of indices for channels that are good cytoplasm markers.  We include tumor and lymphcyte phenotypic markers vs. functional.   \n",
    "* components_dir: input files copied from InForm export  \n",
    "* output_dir: to contain RGB tifs, should be empty  \n",
    "\n"
   ]
  },
  {
   "cell_type": "code",
   "execution_count": null,
   "id": "19f7c14c",
   "metadata": {},
   "outputs": [],
   "source": [
    "# list of labels for channels\n",
    "channels_p28 = ['CD3','pSTAT3 Y705', 'CD4', 'pSTAT5','pSTAT3 S727','pSTAT1', 'SOX10S100', 'CD8','DAPI','Autofluorescence']\n",
    "\n",
    "channels_p68 = ['pSTAT6','SOX10S100','pSTAT4', 'CD4','CD3',\n",
    "                'pSTAT1 S727', 'pSTAT2', 'CD8','DAPI','Autofluorescence']\n",
    "\n",
    "cyto_channels_p28 = [0,2,6,7]  # CD3, CD4, SOX, CD8\n",
    "cyto_channels_p68 = [1,3,4,7]  # SOX, CD4, CD3, CD8\n",
    "\n",
    "channels=channels_p68\n",
    "cyto_channels=cyto_channels_p68\n",
    "\n",
    "print(channels)\n"
   ]
  },
  {
   "cell_type": "code",
   "execution_count": null,
   "id": "ce6bdcdc",
   "metadata": {},
   "outputs": [],
   "source": [
    "root_dir = '/Users/annmstrange/Documents/Projects/Tumor IF'\n",
    "# sample_data_file = os.path.join(root_dir,'Analysis_Py/TumorIF_SampleData.xlsx')\n",
    "\n",
    "#components_dir = \"Panel2/020522 P28BatchAnalysis3x/components\" # 3xblur\n",
    "#components_dir = \"Panel2/Export P28 full40x\"  # vs 3x\n",
    "components_dir = \"Panel3/Export P68 full40x\"\n",
    "#components_dir = \"Panel2/Export P28 21 full40x\"\n",
    "\n",
    "# output for RGB files\n",
    "#output_dir = os.path.join(root_dir, 'Panel2/RGB_CellPose40x_23')\n",
    "output_dir = os.path.join(root_dir, 'Panel3/RGB_CellPose40x_23')\n",
    "#output_dir = os.path.join(root_dir, 'Panel2/RGB_CellPose40x_21')"
   ]
  },
  {
   "cell_type": "code",
   "execution_count": null,
   "id": "2aee28b1",
   "metadata": {},
   "outputs": [],
   "source": [
    "!pwd"
   ]
  },
  {
   "cell_type": "code",
   "execution_count": null,
   "id": "3d7cd31a",
   "metadata": {},
   "outputs": [],
   "source": [
    "# For OneDrive file locations, uncomment the best line to use here\n",
    "\n",
    "# !cd \"cd ~/OneDrive\\ -\\ The\\ University\\ of\\ Colorado\\ Denver/Documents/Projects/Tumor\\ IF/Panel2_Analysis \"\n",
    "# !cd \"Panel2/020522 P28BatchAnalysis3x\"\n",
    "\n",
    "# We'll need 3x (low res files) from 020522\\ P28BatchAnalysis3x/components, composites\n",
    "#    binary masks, maybe qpTiff_as_tifs, binary_seg_maps"
   ]
  },
  {
   "cell_type": "code",
   "execution_count": null,
   "id": "eb9d1786",
   "metadata": {},
   "outputs": [],
   "source": [
    "# how os.path works...\n",
    "# dir_name = os.path.basename(\"/Volumes/Glyph4TB/Projects/Tumor IF/Panel2/020522 P28BatchAnalysis3x\")\n",
    "# print(dir_name)\n",
    "# print(os.path.dirname(dir_name)) \n",
    "# filename_suffix=\"tif\"\n"
   ]
  },
  {
   "cell_type": "code",
   "execution_count": null,
   "id": "c32730df",
   "metadata": {},
   "outputs": [],
   "source": [
    "# code for recursively looking at files in subfolders\n",
    "# builds lists of files we want to process\n",
    "# simplest:\n",
    "import os\n",
    "import fnmatch\n",
    "import re\n",
    "\n",
    "def get_files_in_folder (src, pattern):\n",
    "    '''\n",
    "    Args: src is the full path where to look eg '/Volumes/Glyph4TB/Projects/Tumor IF/Panel2/013022 P28Images_full'\n",
    "    pattern: string like '*_composite_image.tif' to use with fnmatch.filter\n",
    "    Returns: list of full filenames\n",
    "    '''\n",
    "    # build list of filenames we want\n",
    "    fname_list = []\n",
    "\n",
    "    for dirpath, dir, files in os.walk(src):\n",
    "        for filename in fnmatch.filter(files, pattern):\n",
    "            fname = filename\n",
    "            fullname = os.path.join(dirpath, filename)\n",
    "            fname_list.append(fullname)\n",
    "            #slideno_range = re.search(\" [#][0-9][0-9]\", fname).span()\n",
    "\n",
    "            #print(fname[slideno_range[0]+2: slideno_range[1]])\n",
    "            \n",
    "    return fname_list       \n",
    " \n",
    " \n",
    "fname_component = get_files_in_folder(os.path.join(root_dir, components_dir), \n",
    "                                      '*_component_data.tif') \n",
    "\n",
    "print('found {0} files matching the pattern'.format(len(fname_component)))\n",
    "print(fname_component[0])\n",
    "\n"
   ]
  },
  {
   "cell_type": "code",
   "execution_count": null,
   "id": "481a878a",
   "metadata": {},
   "outputs": [],
   "source": [
    "# get a component from our data\n",
    "\n",
    "component_file1 = fname_component[0]\n",
    "component_file1"
   ]
  },
  {
   "cell_type": "code",
   "execution_count": null,
   "id": "dbb98059",
   "metadata": {},
   "outputs": [],
   "source": [
    "# to get code working, forst get the 1st images from each list\n",
    "\n",
    "img_component = io.imread(fname_component[0], plugin=\"tifffile\")"
   ]
  },
  {
   "cell_type": "code",
   "execution_count": null,
   "id": "1bbd801b",
   "metadata": {},
   "outputs": [],
   "source": [
    "# Check the shapes\n",
    "\n",
    "print('Note: we get 10 layers here, same as ImageJ BioFormats import (good)')\n",
    "print('img_component shape {}'.format(img_component.shape))\n"
   ]
  },
  {
   "cell_type": "code",
   "execution_count": null,
   "id": "c78a0c9d",
   "metadata": {},
   "outputs": [],
   "source": []
  },
  {
   "cell_type": "code",
   "execution_count": null,
   "id": "5ca18142",
   "metadata": {},
   "outputs": [],
   "source": []
  },
  {
   "cell_type": "code",
   "execution_count": null,
   "id": "1159455f",
   "metadata": {},
   "outputs": [],
   "source": [
    "\n",
    "def get_max_intensities_by_channel (filename_list):\n",
    "    '''\n",
    "    Arguments: filename_list is list of component files\n",
    "    Returns: array of length 10 with the max intensity in each channel\n",
    "    '''\n",
    "\n",
    "    tally_arr = np.zeros(10)\n",
    "    #print(tally_arr.shape)\n",
    "    for file in filename_list:\n",
    "        img_arr = io.imread(file)\n",
    "        max_values = np.max(np.max(img_arr, axis=2),axis=1)\n",
    "        #print(max_values)\n",
    "        #print(max_values.shape)\n",
    "        tally_arr = np.max([tally_arr, max_values], axis = 0)\n",
    "        #print(tally_arr)\n",
    "        \n",
    "    return tally_arr\n",
    "\n",
    "print(\"checking {} images in list\".format(len(fname_component)))\n",
    "max_intensities = get_max_intensities_by_channel(fname_component)\n",
    "print(max_intensities)"
   ]
  },
  {
   "cell_type": "code",
   "execution_count": null,
   "id": "0cbcf601",
   "metadata": {},
   "outputs": [],
   "source": [
    "# Rescale 16 bit image array\n",
    "\n",
    "def rescale_img(img_array, max_intensities):\n",
    "    '''\n",
    "    Arguments: img_array is 10 channel array from Polaris\n",
    "    max_intensities is array of 10 values for max channel values across the batch\n",
    "    Returns: img_array with new intensities normalized within the channel.\n",
    "    '''\n",
    "    \n",
    "    # rescaled to the 0-255 range, and change 16-bit to single bit unsigned int\n",
    "    \n",
    "    # This takes each array intensity basically div by array max to get a percent, then * 255\n",
    "    img_rescaled = (255 * (img_array - img_array.min()) / (img_array.max() - img_array.min())).astype(np.uint8)\n",
    "    \n",
    "    # instead, we want to div by the channel batch max to get that percent.\n",
    "    # e.g. if batch max is 100%, scale to total. 7.4 is x% of 83, so 7.4/83 will be the % of total possible intensity. \n",
    "    #     and the min() stuff is to rescale all the way to 0 in case of background \"glow\"\n",
    "    \n",
    "    # There's surely a way to do this in numpy using axis but it hurts my brain so I'll loop by channel\n",
    "    for c in np.arange(10):\n",
    "        channel_max = max_intensities[c]\n",
    "        #print(\"For channel {} the max intensity is {}\".format(c, channel_max))\n",
    "        img_rescaled[c] = (255 * (img_array[c,:,:] - img_array[c,:,:].min()) / \n",
    "                           (channel_max - img_array[c,:,:].min())).astype(np.uint8)\n",
    "        img_max = np.max(img_rescaled[c])\n",
    "        print(\"For channel {} the max intensity in img is {} vs batch max {}\".format(c, img_max, channel_max))\n",
    "    return img_rescaled.astype(np.uint8)\n",
    "\n",
    "    \n",
    "    \n",
    "reduced_component = rescale_img(img_component, max_intensities)\n",
    "print('reduced_component shape {}'.format(reduced_component.shape))\n",
    "print('Values like {}'.format(reduced_component[0,:5,:5]))\n",
    "print('Max intensities now like {}'.format(reduced_component.max()))\n"
   ]
  },
  {
   "cell_type": "code",
   "execution_count": null,
   "id": "60df9813",
   "metadata": {},
   "outputs": [],
   "source": [
    "print(len(reduced_component))"
   ]
  },
  {
   "cell_type": "code",
   "execution_count": null,
   "id": "c24996c7",
   "metadata": {},
   "outputs": [],
   "source": [
    "## Downsize and rescale to 8 bit (0-255)\n",
    "def tiff_to_uint8 (tiff_array):\n",
    "    '''\n",
    "    Accept multilayer 16 bit tiff as numpy array.\n",
    "    Shape should be 3D, similar to (10, 465, 620), aka not RGB (465,620,3)\n",
    "    Returns: numpy array of same shape but with uint8 integer values (0-255) in RGB format\n",
    "    \n",
    "    Todo: check for valid input and output (values must be 0-255)\n",
    "    '''\n",
    "    \n",
    "    # rescaled to the 0-255 range, and change 16-bit to single bit unsigned int\n",
    "    img_rescaled = (255 * (tiff_array - tiff_array.min()) / (tiff_array.max() - tiff_array.min())).astype(np.uint8)\n",
    "    \n",
    "    return img_rescaled.astype(np.uint8)\n",
    "\n",
    "\n",
    "reduced_component = tiff_to_uint8(img_component)\n",
    "print('reduced_component shape {}'.format(reduced_component.shape))\n",
    "\n"
   ]
  },
  {
   "cell_type": "code",
   "execution_count": null,
   "id": "a8595ac8",
   "metadata": {},
   "outputs": [],
   "source": [
    "np.max(reduced_component[1,:,:])"
   ]
  },
  {
   "cell_type": "code",
   "execution_count": null,
   "id": "a19e10ec",
   "metadata": {},
   "outputs": [],
   "source": [
    "# select channels for nuclei and cytoplasm (for now, only one but you could take max intensities for mult)\n",
    "\n",
    "# channel 8 (DAPI) to blue \n",
    "# channel idx 6 (SOX10S100) to green  (add CD3, CD4, and CD8 channels) pass [0,2,6,7]\n",
    "\n",
    "def to_rgb (component_img, nuclear_idx, cyto_idx, include_red=True):\n",
    "    '''\n",
    "    Arguments: component_img as multichannel index with shape (channels, y, x)\n",
    "        nuclear_idx is index of the channel containing best nuclear stain\n",
    "        cyto_idx is index (or list of indices) of the channel containing best cytoplasm stain(s)\n",
    "    Returns: RGB formatted numpy array w shape like (y, x, 3) which can be saved e.g. as a tif file\n",
    "    '''\n",
    "    \n",
    "    # Scale each channel (0-1) then scale up to 0-255, HOWEVER, should be across whole batch.\n",
    "    # soooo... we'll assume these are already scaled by channel and batch\n",
    "    \n",
    "    img_shape = component_img[nuclear_idx,:,:].shape\n",
    "    rgb_np = np.zeros((img_shape[0], img_shape[1], 3))\n",
    "    print(component_img[nuclear_idx,:,:].shape)\n",
    "    \n",
    "    # set nuclear channel to 2 which is blue in RGB\n",
    "    rgb_np[:,:,2] = component_img[nuclear_idx,:,:] \n",
    "    \n",
    "    if (len(cyto_idx) > 1 and type(cyto_idx == \"list\")):\n",
    "        print(\"passed a list\")\n",
    "        merged_channels = np.max(component_img[cyto_idx,:,:], axis=0)\n",
    "        print(merged_channels.shape)\n",
    "        \n",
    "        # red is everything left over\n",
    "        red_idx = list(set([0,1,2,3,4,5,6,7]) - set(cyto_idx) - {nuclear_idx})\n",
    "        print(red_idx)\n",
    "        red_channels = np.max(component_img[red_idx,:,:], axis=0)\n",
    "\n",
    "        #print(\"Channel maxs: {} {} {}\".format(component_img[0,:,:].max(), component_img[2,:,:].max(), \n",
    "        #      component_img[6,:,:].max()))\n",
    "        print(\"Merged max: {}\".format(merged_channels.max()))\n",
    "        # set cytoplasm channels to 1 which is green in RGB\n",
    "        rgb_np[:,:,1] = merged_channels[:,:]      \n",
    "    else:    \n",
    "        rgb_np[:,:,1] = component_img[cyto_idx,:,:] \n",
    "        red_idx = list(set([0,1,2,3,4,5,6,7]) - {nuclear_idx})\n",
    "        \n",
    "    if (include_red):\n",
    "        merged_channels = np.max(component_img[red_idx,:,:], axis=0)\n",
    "        print(merged_channels.shape)\n",
    "        rgb_np[:,:,0] = merged_channels[:,:]\n",
    "    \n",
    "    \n",
    "    #print(rgb_np[:20, :20, 1])\n",
    "    print(rgb_np.shape)\n",
    "    return rgb_np.astype(np.uint8)\n",
    "\n",
    "\n",
    "rgb_np1 = to_rgb(reduced_component, 8, cyto_channels, True) # 2\n",
    "    \n"
   ]
  },
  {
   "cell_type": "code",
   "execution_count": null,
   "id": "e3110eff",
   "metadata": {},
   "outputs": [],
   "source": [
    "# aside: how to subtract list elements from another list, use sets \n",
    "l1 = set([0,1,2,3,4,5,6,7])\n",
    "l2 = [2, 7]\n",
    "list(l1 - set(l2))\n"
   ]
  },
  {
   "cell_type": "code",
   "execution_count": null,
   "id": "45ac6942",
   "metadata": {},
   "outputs": [],
   "source": [
    "rgb_np1 = to_rgb(reduced_component, 8, cyto_channels)\n",
    "print(rgb_np1.shape)\n",
    "\n",
    "print(np.min(rgb_np1), np.max(rgb_np1), type(rgb_np1[0,0,0]))\n",
    "\n",
    "plt.imshow(rgb_np1)\n",
    "\n"
   ]
  },
  {
   "cell_type": "code",
   "execution_count": null,
   "id": "070571ce",
   "metadata": {},
   "outputs": [],
   "source": [
    "# process all files in the components list and save rgb files to new folder\n",
    "\n",
    "for i, file1 in enumerate (fname_component):\n",
    "    print(file1)\n",
    "    img_component = io.imread(file1, plugin=\"tifffile\")\n",
    "    #reduced_component = tiff_to_uint8(img_component)\n",
    "    reduced_component = rescale_img(img_component, max_intensities)\n",
    "    \n",
    "    rgb_arr = to_rgb(reduced_component, 8, cyto_channels)\n",
    "    \n",
    "    rgb_fn = os.path.basename(file1)\n",
    "    rgb_file = os.path.join(output_dir, rgb_fn.replace('component_data', 'rgb'))\n",
    "    print(\"Saving to {}\".format(rgb_file))\n",
    "    io.imsave(rgb_file, rgb_arr)"
   ]
  },
  {
   "cell_type": "code",
   "execution_count": null,
   "id": "7ef615b9",
   "metadata": {},
   "outputs": [],
   "source": [
    "len(fname_component)"
   ]
  },
  {
   "cell_type": "code",
   "execution_count": null,
   "id": "b9cf3d11",
   "metadata": {},
   "outputs": [],
   "source": []
  }
 ],
 "metadata": {
  "kernelspec": {
   "display_name": "Python 3 (ipykernel)",
   "language": "python",
   "name": "python3"
  },
  "language_info": {
   "codemirror_mode": {
    "name": "ipython",
    "version": 3
   },
   "file_extension": ".py",
   "mimetype": "text/x-python",
   "name": "python",
   "nbconvert_exporter": "python",
   "pygments_lexer": "ipython3",
   "version": "3.8.13"
  }
 },
 "nbformat": 4,
 "nbformat_minor": 5
}
